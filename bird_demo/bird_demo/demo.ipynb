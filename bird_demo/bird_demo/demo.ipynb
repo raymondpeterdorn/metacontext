{
 "cells": [
  {
   "cell_type": "markdown",
   "id": "8507c71e",
   "metadata": {},
   "source": [
    "# Metacontext Demo"
   ]
  },
  {
   "cell_type": "code",
   "execution_count": null,
   "id": "ac1209a4",
   "metadata": {
    "vscode": {
     "languageId": "plaintext"
    }
   },
   "outputs": [],
   "source": [
    "import logging\n",
    "import os\n",
    "import pickle\n",
    "from pathlib import Path\n",
    "from typing import Any\n",
    "\n",
    "import geopandas as gpd\n",
    "import numpy as np\n",
    "import pandas as pd\n",
    "from dotenv import load_dotenv\n",
    "from metacontext.metacontextualize import metacontextualize\n",
    "from PIL import Image\n",
    "from scripts.exploratory_data_analysis import load_and_validate_data\n",
    "from scripts.train_model import train_bird_classifier\n",
    "from scripts.bird_image import bird_image\n",
    "\n",
    "INPUT_DIR = Path(\"bird_demo/input\")\n",
    "OUTPUT_DIR = Path(\"bird_demo/output\")"
   ]
  },
  {
   "cell_type": "code",
   "execution_count": null,
   "id": "e2685d33",
   "metadata": {
    "vscode": {
     "languageId": "plaintext"
    }
   },
   "outputs": [],
   "source": [
    "\n",
    "def csv_example() -> pd.DataFrame:\n",
    "    \"\"\"Process bird dataset to create CSV files.\"\"\"\n",
    "    csv_path = Path(INPUT_DIR / \"birdos_expanded.csv\")\n",
    "\n",
    "    df_csv = pd.read_csv(csv_path)\n",
    "\n",
    "    df_model = load_and_validate_data(df_csv)\n",
    "\n",
    "df_model = csv_example()\n",
    "df_model"
   ]
  },
  {
   "cell_type": "code",
   "execution_count": null,
   "id": "339302a7",
   "metadata": {
    "vscode": {
     "languageId": "plaintext"
    }
   },
   "outputs": [],
   "source": [
    "# Using Code Companion\n",
    "output_csv_path = Path(OUTPUT_DIR / 'companion' / \"tabular_csv.csv\")\n",
    "df_model.to_csv(output_csv_path, index=False)\n",
    "\n",
    "metacontextualize(\n",
    "    df_model,\n",
    "    output_csv_path,\n",
    "    ai_companion=True\n",
    ")"
   ]
  },
  {
   "cell_type": "code",
   "execution_count": null,
   "id": "128e7f3f",
   "metadata": {
    "vscode": {
     "languageId": "plaintext"
    }
   },
   "outputs": [],
   "source": [
    "# Using a Gemini API Key\n",
    "output_csv_path = Path(OUTPUT_DIR / 'llm_api' / \"tabular_csv.csv\")\n",
    "df_model.to_csv(output_csv_path, index=False)\n",
    "\n",
    "metacontextualize(\n",
    "    df_model,\n",
    "    output_csv_path,\n",
    "    ai_companion=False,\n",
    "    llm_api_key=os.getenv(\"GEMINI_API_KEY\"),\n",
    "    llm_provider=\"gemini\",\n",
    ")"
   ]
  },
  {
   "cell_type": "code",
   "execution_count": null,
   "id": "9b2d9ee4",
   "metadata": {
    "vscode": {
     "languageId": "plaintext"
    }
   },
   "outputs": [],
   "source": [
    "def ml_models() -> None:\n",
    "    \"\"\"Create and train a machine learning model for bird classification.\"\"\"\n",
    "    csv_path = INPUT_DIR / \"birdos.csv\"\n",
    "    \n",
    "    # Train the model using the proper training script\n",
    "    return train_bird_classifier(csv_path)\n",
    "\n",
    "    # Ensure output directory exists\n",
    "    OUTPUT_DIR.mkdir(exist_ok=True, parents=True)\n",
    "\n",
    "    # Save the model\n",
    "    ai_path = 'companion' if use_ai_companion else \"llm_api\"\n",
    "    model_path = OUTPUT_DIR / ai_path / \"model_pkl.pkl\"\n",
    "    with model_path.open(\"wb\") as f:\n",
    "        pickle.dump(model, f)"
   ]
  },
  {
   "cell_type": "code",
   "execution_count": null,
   "id": "1bf4de95",
   "metadata": {
    "vscode": {
     "languageId": "plaintext"
    }
   },
   "outputs": [],
   "source": [
    "model_path = OUTPUT_DIR / 'companion' / \"model_pkl.pkl\"\n",
    "with model_path.open(\"wb\") as f:\n",
    "    pickle.dump(model, f)\n",
    "\n",
    "metacontextualize(\n",
    "        model,\n",
    "        model_path,\n",
    "        ai_companion=True\n",
    "    )"
   ]
  },
  {
   "cell_type": "code",
   "execution_count": null,
   "id": "0f55fca4",
   "metadata": {
    "vscode": {
     "languageId": "plaintext"
    }
   },
   "outputs": [],
   "source": [
    "model_path = OUTPUT_DIR / 'llm_api' / \"model_pkl.pkl\"\n",
    "with model_path.open(\"wb\") as f:\n",
    "    pickle.dump(model, f)\n",
    "\n",
    "metacontextualize(\n",
    "        model,\n",
    "        model_path,\n",
    "        ai_companion=False,\n",
    "        llm_api_key=os.getenv(\"GEMINI_API_KEY\"),\n",
    "        llm_provider=\"gemini\",\n",
    "    )"
   ]
  },
  {
   "cell_type": "code",
   "execution_count": null,
   "id": "f5c082bf",
   "metadata": {
    "vscode": {
     "languageId": "plaintext"
    }
   },
   "outputs": [],
   "source": [
    "def geospatial_data() -> gpd.GeoDataFrame:\n",
    "    gpkg_path = INPUT_DIR / \"birdos_locations.gpkg\"\n",
    "    gpkg = gpd.read_file(str(gpkg_path), driver=\"GPKG\")\n",
    "    return gpkg.to_crs(\"EPSG:4326\")\n",
    "\n",
    "geodataframe = geospatial_data()"
   ]
  },
  {
   "cell_type": "code",
   "execution_count": null,
   "id": "77590c1e",
   "metadata": {
    "vscode": {
     "languageId": "plaintext"
    }
   },
   "outputs": [],
   "source": [
    "gpkg_output_path = OUTPUT_DIR / 'companion' / \"geospatial_gpkg.gpkg\"\n",
    "gpkg_filtered.to_file(str(gpkg_output_path), driver=\"GPKG\")\n",
    "metacontextualize(\n",
    "    gpkg_filtered,\n",
    "    gpkg_output_path,\n",
    "    ai_companion=True,\n",
    "    verbose=True,\n",
    ")"
   ]
  },
  {
   "cell_type": "code",
   "execution_count": null,
   "id": "e8b8c00d",
   "metadata": {
    "vscode": {
     "languageId": "plaintext"
    }
   },
   "outputs": [],
   "source": [
    "gpkg_output_path = OUTPUT_DIR / 'llm_api' / \"geospatial_gpkg.gpkg\"\n",
    "gpkg_filtered.to_file(str(gpkg_output_path), driver=\"GPKG\")\n",
    "metacontextualize(\n",
    "    gpkg_filtered,\n",
    "    gpkg_output_path,\n",
    "    ai_companion=False,\n",
    "    llm_api_key=os.getenv(\"GEMINI_API_KEY\"),\n",
    "    llm_provider=\"gemini\",\n",
    ")"
   ]
  },
  {
   "cell_type": "code",
   "execution_count": null,
   "id": "ae843ef2",
   "metadata": {
    "vscode": {
     "languageId": "plaintext"
    }
   },
   "outputs": [],
   "source": [
    "cute_little_bird = bird_image()\n",
    "cute_little_bird"
   ]
  },
  {
   "cell_type": "code",
   "execution_count": null,
   "id": "e58f6125",
   "metadata": {
    "vscode": {
     "languageId": "plaintext"
    }
   },
   "outputs": [],
   "source": [
    "# Save the image\n",
    "img_path = OUTPUT_DIR / 'companion' / \"media_png.png\"\n",
    "cute_little_bird.save(img_path)\n",
    "\n",
    "# Use companion mode (ai_companion=True + llm_api_key=None)\n",
    "metacontextualize(\n",
    "    cute_little_bird,\n",
    "    img_path,\n",
    "    ai_companion=True,\n",
    "    verbose=True,\n",
    ")\n"
   ]
  },
  {
   "cell_type": "code",
   "execution_count": null,
   "id": "8e0201f0",
   "metadata": {
    "vscode": {
     "languageId": "plaintext"
    }
   },
   "outputs": [],
   "source": [
    "# Use API mode (ai_companion=False + llm_api_key=provided)\n",
    "img_path = OUTPUT_DIR / 'llm_api' / \"media_png.png\"\n",
    "cute_little_bird.save(img_path)\n",
    "metacontextualize(\n",
    "    cute_little_bird,\n",
    "    img_path,\n",
    "    ai_companion=False,\n",
    "    llm_api_key=os.getenv(\"GEMINI_API_KEY\"),\n",
    "    llm_provider=\"gemini\",\n",
    ")"
   ]
  }
 ],
 "metadata": {
  "language_info": {
   "name": "python"
  }
 },
 "nbformat": 4,
 "nbformat_minor": 5
}
